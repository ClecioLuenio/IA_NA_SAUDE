{
 "cells": [
  {
   "cell_type": "code",
   "execution_count": 1,
   "id": "0d00241f",
   "metadata": {},
   "outputs": [],
   "source": [
    "# Exercício: Breast Cancer Wisconsin (Diagnostic) - UCI\n",
    "# Requisitos: pandas, numpy, requests (opcional), matplotlib (não é necessário aqui)\n",
    "\n",
    "import pandas as pd\n",
    "import numpy as np"
   ]
  },
  {
   "cell_type": "code",
   "execution_count": 2,
   "id": "f0c71658",
   "metadata": {},
   "outputs": [
    {
     "name": "stdout",
     "output_type": "stream",
     "text": [
      "Dimensões (linhas, colunas): (569, 32)\n",
      "\n",
      "Primeiras 5 linhas:\n",
      "         id diagnosis  radius_mean  texture_mean  perimeter_mean  area_mean  \\\n",
      "0    842302         M        17.99         10.38          122.80     1001.0   \n",
      "1    842517         M        20.57         17.77          132.90     1326.0   \n",
      "2  84300903         M        19.69         21.25          130.00     1203.0   \n",
      "3  84348301         M        11.42         20.38           77.58      386.1   \n",
      "4  84358402         M        20.29         14.34          135.10     1297.0   \n",
      "\n",
      "   smoothness_mean  compactness_mean  concavity_mean  concave_points_mean  \\\n",
      "0          0.11840           0.27760          0.3001              0.14710   \n",
      "1          0.08474           0.07864          0.0869              0.07017   \n",
      "2          0.10960           0.15990          0.1974              0.12790   \n",
      "3          0.14250           0.28390          0.2414              0.10520   \n",
      "4          0.10030           0.13280          0.1980              0.10430   \n",
      "\n",
      "   ...  radius_worst  texture_worst  perimeter_worst  area_worst  \\\n",
      "0  ...         25.38          17.33           184.60      2019.0   \n",
      "1  ...         24.99          23.41           158.80      1956.0   \n",
      "2  ...         23.57          25.53           152.50      1709.0   \n",
      "3  ...         14.91          26.50            98.87       567.7   \n",
      "4  ...         22.54          16.67           152.20      1575.0   \n",
      "\n",
      "   smoothness_worst  compactness_worst  concavity_worst  concave_points_worst  \\\n",
      "0            0.1622             0.6656           0.7119                0.2654   \n",
      "1            0.1238             0.1866           0.2416                0.1860   \n",
      "2            0.1444             0.4245           0.4504                0.2430   \n",
      "3            0.2098             0.8663           0.6869                0.2575   \n",
      "4            0.1374             0.2050           0.4000                0.1625   \n",
      "\n",
      "   symmetry_worst  fractal_dimension_worst  \n",
      "0          0.4601                  0.11890  \n",
      "1          0.2750                  0.08902  \n",
      "2          0.3613                  0.08758  \n",
      "3          0.6638                  0.17300  \n",
      "4          0.2364                  0.07678  \n",
      "\n",
      "[5 rows x 32 columns]\n"
     ]
    }
   ],
   "source": [
    "# ---------------------------------------------------------------------\n",
    "# 1) Carregamento e inspeção inicial\n",
    "# ---------------------------------------------------------------------\n",
    "# URL direta do arquivo de dados no UCI:\n",
    "DATA_URL = \"https://archive.ics.uci.edu/ml/machine-learning-databases/breast-cancer-wisconsin/wdbc.data\"\n",
    "\n",
    "# Nomes de colunas (32 no total: id, diagnosis + 30 atributos)\n",
    "feature_groups = [\"mean\", \"se\", \"worst\"]\n",
    "base_features = [\n",
    "    \"radius\", \"texture\", \"perimeter\", \"area\", \"smoothness\",\n",
    "    \"compactness\", \"concavity\", \"concave_points\", \"symmetry\",\n",
    "    \"fractal_dimension\"\n",
    "]\n",
    "feature_cols = [f\"{b}_{g}\" for g in feature_groups for b in base_features]\n",
    "cols = [\"id\", \"diagnosis\"] + feature_cols  # total 32\n",
    "\n",
    "# Carrega CSV sem header e atribui nomes\n",
    "df = pd.read_csv(DATA_URL, header=None, names=cols)\n",
    "\n",
    "# a) & b) & c)\n",
    "print(\"Dimensões (linhas, colunas):\", df.shape)\n",
    "print(\"\\nPrimeiras 5 linhas:\")\n",
    "print(df.head())"
   ]
  },
  {
   "cell_type": "code",
   "execution_count": 3,
   "id": "b4b25fec",
   "metadata": {},
   "outputs": [
    {
     "name": "stdout",
     "output_type": "stream",
     "text": [
      "\n",
      "Estatísticas básicas (mean/median/std):\n",
      "                    mean  median         std\n",
      "radius_mean    14.127292   13.37    3.524049\n",
      "texture_mean   19.289649   18.84    4.301036\n",
      "area_mean     654.889104  551.10  351.914129\n",
      "\n",
      "Quartis e IQR:\n",
      "                  Q1      Q2      Q3     IQR\n",
      "radius_mean    11.70   13.37   15.78    4.08\n",
      "texture_mean   16.17   18.84   21.80    5.63\n",
      "area_mean     420.30  551.10  782.70  362.40\n"
     ]
    }
   ],
   "source": [
    "# ---------------------------------------------------------------------\n",
    "# 2) Estatísticas descritivas básicas\n",
    "# ---------------------------------------------------------------------\n",
    "vars_basic = [\"radius_mean\", \"texture_mean\", \"area_mean\"]\n",
    "\n",
    "# a) média, mediana, desvio-padrão\n",
    "desc_stats = pd.DataFrame({\n",
    "    \"mean\": df[vars_basic].mean(),\n",
    "    \"median\": df[vars_basic].median(),\n",
    "    \"std\": df[vars_basic].std(ddof=1)\n",
    "})\n",
    "print(\"\\nEstatísticas básicas (mean/median/std):\")\n",
    "print(desc_stats)\n",
    "\n",
    "# b) quartis e IQR\n",
    "q1 = df[vars_basic].quantile(0.25)\n",
    "q2 = df[vars_basic].quantile(0.50)  # mediana (Q2)\n",
    "q3 = df[vars_basic].quantile(0.75)\n",
    "iqr = q3 - q1\n",
    "quartis_iqr = pd.DataFrame({\"Q1\": q1, \"Q2\": q2, \"Q3\": q3, \"IQR\": iqr})\n",
    "print(\"\\nQuartis e IQR:\")\n",
    "print(quartis_iqr)\n"
   ]
  },
  {
   "cell_type": "code",
   "execution_count": 4,
   "id": "b3198a70",
   "metadata": {},
   "outputs": [
    {
     "name": "stdout",
     "output_type": "stream",
     "text": [
      "\n",
      "Média de radius_mean por diagnóstico:\n",
      "diagnosis\n",
      "B    12.146524\n",
      "M    17.462830\n",
      "Name: radius_mean, dtype: float64\n",
      "\n",
      "Média de area_worst por diagnóstico:\n",
      "diagnosis\n",
      "B     558.899440\n",
      "M    1422.286321\n",
      "Name: area_worst, dtype: float64\n"
     ]
    }
   ],
   "source": [
    "# ---------------------------------------------------------------------\n",
    "# 3) Análise por grupo\n",
    "# ---------------------------------------------------------------------\n",
    "# a) média de radius_mean por diagnóstico (B vs M)\n",
    "mean_radius_by_dx = df.groupby(\"diagnosis\")[\"radius_mean\"].mean()\n",
    "print(\"\\nMédia de radius_mean por diagnóstico:\")\n",
    "print(mean_radius_by_dx)\n",
    "\n",
    "# b) comparar média de area_worst entre benignos e malignos\n",
    "mean_area_worst_by_dx = df.groupby(\"diagnosis\")[\"area_worst\"].mean()\n",
    "print(\"\\nMédia de area_worst por diagnóstico:\")\n",
    "print(mean_area_worst_by_dx)\n"
   ]
  },
  {
   "cell_type": "code",
   "execution_count": 3,
   "id": "4457f83a",
   "metadata": {},
   "outputs": [
    {
     "name": "stdout",
     "output_type": "stream",
     "text": [
      "\n",
      "Distribuição do diagnóstico (absoluto):\n",
      "diagnosis\n",
      "B    357\n",
      "M    212\n",
      "Name: count, dtype: int64\n",
      "\n",
      "Distribuição do diagnóstico (%):\n",
      "diagnosis\n",
      "B    62.74\n",
      "M    37.26\n",
      "Name: proportion, dtype: float64\n",
      "\n",
      "Tabela n e % lado a lado:\n",
      "             n      %\n",
      "diagnosis            \n",
      "B          357  62.74\n",
      "M          212  37.26\n"
     ]
    }
   ],
   "source": [
    "# ---------------------------------------------------------------------\n",
    "# 4) Distribuições e frequências\n",
    "# ---------------------------------------------------------------------\n",
    "# a) value_counts absoluto e proporcional\n",
    "counts_abs = df[\"diagnosis\"].value_counts()\n",
    "counts_pct = df[\"diagnosis\"].value_counts(normalize=True) * 100\n",
    "print(\"\\nDistribuição do diagnóstico (absoluto):\")\n",
    "print(counts_abs)\n",
    "print(\"\\nDistribuição do diagnóstico (%):\")\n",
    "print(counts_pct.round(2))\n",
    "\n",
    "# b) tabela com n e % lado a lado\n",
    "tab_dx = pd.DataFrame({\n",
    "    \"n\": counts_abs,\n",
    "    \"%\": counts_pct.round(2)\n",
    "})\n",
    "print(\"\\nTabela n e % lado a lado:\")\n",
    "print(tab_dx)"
   ]
  },
  {
   "cell_type": "code",
   "execution_count": 4,
   "id": "e3b41ac5",
   "metadata": {},
   "outputs": [
    {
     "name": "stdout",
     "output_type": "stream",
     "text": [
      "\n",
      "Correlação radius_mean vs perimeter_mean: 0.9978552814938112\n",
      "\n",
      "Top-3 variáveis mais correlacionadas com o diagnóstico (|r|):\n",
      "                          corr    |corr|\n",
      "concave_points_worst  0.793566  0.793566\n",
      "perimeter_worst       0.782914  0.782914\n",
      "concave_points_mean   0.776614  0.776614\n",
      "\n",
      "10 casos com maior radius_worst:\n",
      "diagnosis  radius_worst  area_worst\n",
      "        M         36.04      4254.0\n",
      "        M         33.13      3234.0\n",
      "        M         33.12      3216.0\n",
      "        M         32.49      3432.0\n",
      "        M         31.01      2944.0\n",
      "        M         30.79      2782.0\n",
      "        M         30.75      3143.0\n",
      "        M         30.67      2906.0\n",
      "        M         30.00      2562.0\n",
      "        M         29.92      2642.0\n"
     ]
    }
   ],
   "source": [
    "# ---------------------------------------------------------------------\n",
    "# 5) Correlação e filtros\n",
    "# ---------------------------------------------------------------------\n",
    "# a) correlação entre radius_mean e perimeter_mean\n",
    "corr_radius_perimeter = df[\"radius_mean\"].corr(df[\"perimeter_mean\"])\n",
    "print(\"\\nCorrelação radius_mean vs perimeter_mean:\", corr_radius_perimeter)\n",
    "\n",
    "# b) 3 variáveis mais correlacionadas com o diagnóstico (em módulo)\n",
    "#    converter diagnosis para binária: M=1, B=0\n",
    "df[\"_diagnosis_bin\"] = (df[\"diagnosis\"] == \"M\").astype(int)\n",
    "\n",
    "# correlação de todas as variáveis numéricas com a coluna binária\n",
    "num_cols = df.select_dtypes(include=[np.number]).columns.drop([\"id\"])\n",
    "corr_with_dx = df[num_cols].corr()[\"_diagnosis_bin\"].drop(\"_diagnosis_bin\")\n",
    "\n",
    "top3 = corr_with_dx.abs().sort_values(ascending=False).head(3)\n",
    "top3_with_sign = corr_with_dx.loc[top3.index]\n",
    "print(\"\\nTop-3 variáveis mais correlacionadas com o diagnóstico (|r|):\")\n",
    "print(pd.DataFrame({\n",
    "    \"corr\": top3_with_sign.values,\n",
    "    \"|corr|\": top3.values\n",
    "}, index=top3.index))\n",
    "\n",
    "# c) 10 casos com maior radius_worst (mostrar diagnosis, radius_worst, area_worst)\n",
    "top10 = df.nlargest(10, \"radius_worst\")[[\"diagnosis\", \"radius_worst\", \"area_worst\"]]\n",
    "print(\"\\n10 casos com maior radius_worst:\")\n",
    "print(top10.to_string(index=False))"
   ]
  }
 ],
 "metadata": {
  "kernelspec": {
   "display_name": "myenv",
   "language": "python",
   "name": "python3"
  },
  "language_info": {
   "codemirror_mode": {
    "name": "ipython",
    "version": 3
   },
   "file_extension": ".py",
   "mimetype": "text/x-python",
   "name": "python",
   "nbconvert_exporter": "python",
   "pygments_lexer": "ipython3",
   "version": "3.12.9"
  }
 },
 "nbformat": 4,
 "nbformat_minor": 5
}
