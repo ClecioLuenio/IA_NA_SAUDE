{
 "cells": [
  {
   "cell_type": "code",
   "execution_count": null,
   "id": "b0f66866",
   "metadata": {},
   "outputs": [],
   "source": [
    "# Questão 1\n",
    "# Programa para verificar se um número é par ou ímpar\n",
    "\n",
    "numero = int(input(\"Digite um número inteiro: \"))\n",
    "\n",
    "if numero % 2 == 0:\n",
    "    print(f\"O número {numero} é PAR.\")\n",
    "else:\n",
    "    print(f\"O número {numero} é ÍMPAR.\")"
   ]
  },
  {
   "cell_type": "code",
   "execution_count": null,
   "id": "e23a3f51",
   "metadata": {},
   "outputs": [],
   "source": [
    "# Questão 2\n",
    "# Programa para calcular o IMC\n",
    "\n",
    "peso = float(input(\"Digite o seu peso em kg: \"))\n",
    "altura = float(input(\"Digite a sua altura em metros: \"))\n",
    "\n",
    "imc = peso / (altura ** 2)\n",
    "\n",
    "print(f\"Seu IMC é: {imc:.2f}\")\n",
    "\n",
    "if imc < 18.5:\n",
    "    print(\"Classificação: abaixo do peso\")\n",
    "elif imc < 25:\n",
    "    print(\"Classificação: peso normal\")\n",
    "elif imc < 30:\n",
    "    print(\"Classificação: sobrepeso\")\n",
    "else:\n",
    "    print(\"Classificação: obesidade\")"
   ]
  },
  {
   "cell_type": "code",
   "execution_count": null,
   "id": "6a9e0880",
   "metadata": {},
   "outputs": [],
   "source": [
    "# Questão 3\n",
    "# Programa para calcular a média de três notas\n",
    "\n",
    "nota1 = float(input(\"Digite a primeira nota: \"))\n",
    "nota2 = float(input(\"Digite a segunda nota: \"))\n",
    "nota3 = float(input(\"Digite a terceira nota: \"))\n",
    "\n",
    "media = (nota1 + nota2 + nota3) / 3\n",
    "\n",
    "print(f\"A média do aluno é: {media:.2f}\")\n",
    "\n",
    "if media >= 6.0:\n",
    "    print(\"Situação: Aprovado\")\n",
    "else:\n",
    "    print(\"Situação: Reprovado\")"
   ]
  },
  {
   "cell_type": "code",
   "execution_count": null,
   "id": "86ce35b4",
   "metadata": {},
   "outputs": [],
   "source": [
    "# Questão 4\n",
    "# Jogo de adivinhação de número entre 1 e 10\n",
    "\n",
    "import random\n",
    "\n",
    "numero = random.randint(1, 10)\n",
    "tentativas = 0\n",
    "\n",
    "print(\"Tente adivinhar o número entre 1 e 10!\")\n",
    "\n",
    "while True:\n",
    "    palpite = int(input(\"Digite seu palpite: \"))\n",
    "    tentativas += 1\n",
    "    \n",
    "    if palpite < numero:\n",
    "        print(\"Tente um número maior.\")\n",
    "    elif palpite > numero:\n",
    "        print(\"Tente um número menor.\")\n",
    "    else:\n",
    "        print(f\"Parabéns! Você acertou o número {numero} em {tentativas} tentativas.\")\n",
    "        break"
   ]
  }
 ],
 "metadata": {
  "language_info": {
   "name": "python"
  }
 },
 "nbformat": 4,
 "nbformat_minor": 5
}
